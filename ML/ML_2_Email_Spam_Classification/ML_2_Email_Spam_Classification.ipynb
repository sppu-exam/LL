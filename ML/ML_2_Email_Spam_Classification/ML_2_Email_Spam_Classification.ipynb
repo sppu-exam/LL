{
 "cells": [
  {
   "metadata": {},
   "cell_type": "markdown",
   "source": "# Step 1: Import the required libraries",
   "id": "f0ebb4912c5a6080"
  },
  {
   "metadata": {
    "ExecuteTime": {
     "end_time": "2024-11-07T15:20:12.332600Z",
     "start_time": "2024-11-07T15:20:12.322290Z"
    }
   },
   "cell_type": "code",
   "source": [
    "import pandas as pd\n",
    "import numpy as np\n",
    "import matplotlib.pyplot as plt\n",
    "import seaborn as sns\n",
    "from sklearn.model_selection import train_test_split\n",
    "from sklearn.preprocessing import StandardScaler\n",
    "from sklearn.neighbors import KNeighborsClassifier\n",
    "from sklearn.svm import SVC\n",
    "from sklearn.metrics import accuracy_score, classification_report, confusion_matrix\n",
    "from sklearn.decomposition import PCA\n",
    "import warnings\n",
    "warnings.filterwarnings('ignore')"
   ],
   "id": "529175a1277fa5ef",
   "outputs": [],
   "execution_count": 24
  },
  {
   "metadata": {},
   "cell_type": "markdown",
   "source": "# Step 2: Load the dataset",
   "id": "56cab8bf5eed2ac2"
  },
  {
   "metadata": {},
   "cell_type": "markdown",
   "source": "Replace 'emails.csv' with the path to the dataset file.",
   "id": "7d0237cc655862a0"
  },
  {
   "metadata": {
    "ExecuteTime": {
     "end_time": "2024-11-07T15:20:13.881415Z",
     "start_time": "2024-11-07T15:20:12.463500Z"
    }
   },
   "cell_type": "code",
   "source": "df = pd.read_csv(\"emails.csv\")",
   "id": "2d4875c61f33d2ce",
   "outputs": [],
   "execution_count": 25
  },
  {
   "metadata": {},
   "cell_type": "markdown",
   "source": "# Step 3: Data Exploration",
   "id": "454d019fc3f5c8bd"
  },
  {
   "metadata": {
    "ExecuteTime": {
     "end_time": "2024-11-07T15:20:13.893468Z",
     "start_time": "2024-11-07T15:20:13.882718Z"
    }
   },
   "cell_type": "code",
   "source": [
    "print(\"Dataset Shape:\", df.shape)\n",
    "print(\"Dataset Sample:\\n\", df.head())"
   ],
   "id": "5036eaef3eb87045",
   "outputs": [
    {
     "name": "stdout",
     "output_type": "stream",
     "text": [
      "Dataset Shape: (5172, 3002)\n",
      "Dataset Sample:\n",
      "   Email No.  the  to  ect  and  for  of    a  you  hou  ...  connevey  jay  \\\n",
      "0   Email 1    0   0    1    0    0   0    2    0    0  ...         0    0   \n",
      "1   Email 2    8  13   24    6    6   2  102    1   27  ...         0    0   \n",
      "2   Email 3    0   0    1    0    0   0    8    0    0  ...         0    0   \n",
      "3   Email 4    0   5   22    0    5   1   51    2   10  ...         0    0   \n",
      "4   Email 5    7   6   17    1    5   2   57    0    9  ...         0    0   \n",
      "\n",
      "   valued  lay  infrastructure  military  allowing  ff  dry  Prediction  \n",
      "0       0    0               0         0         0   0    0           0  \n",
      "1       0    0               0         0         0   1    0           0  \n",
      "2       0    0               0         0         0   0    0           0  \n",
      "3       0    0               0         0         0   0    0           0  \n",
      "4       0    0               0         0         0   1    0           0  \n",
      "\n",
      "[5 rows x 3002 columns]\n"
     ]
    }
   ],
   "execution_count": 26
  },
  {
   "metadata": {},
   "cell_type": "markdown",
   "source": "Check for missing values",
   "id": "dad64c60105a63d7"
  },
  {
   "metadata": {
    "ExecuteTime": {
     "end_time": "2024-11-07T15:20:13.925358Z",
     "start_time": "2024-11-07T15:20:13.894706Z"
    }
   },
   "cell_type": "code",
   "source": "print(\"Missing values:\\n\", df.isnull().sum().sum())",
   "id": "bfdb3aaab1fef441",
   "outputs": [
    {
     "name": "stdout",
     "output_type": "stream",
     "text": [
      "Missing values:\n",
      " 0\n"
     ]
    }
   ],
   "execution_count": 27
  },
  {
   "metadata": {},
   "cell_type": "markdown",
   "source": "# Step 4: Data Preprocessing",
   "id": "7ef7718a4b7652d4"
  },
  {
   "metadata": {},
   "cell_type": "markdown",
   "source": "Dropping the first column as it is just an email identifier",
   "id": "4248f7ec5bd8e9b"
  },
  {
   "metadata": {
    "ExecuteTime": {
     "end_time": "2024-11-07T15:20:13.977606Z",
     "start_time": "2024-11-07T15:20:13.925358Z"
    }
   },
   "cell_type": "code",
   "source": "df.drop(df.columns[0], axis=1, inplace=True)",
   "id": "9aa19b03420247fa",
   "outputs": [],
   "execution_count": 28
  },
  {
   "metadata": {},
   "cell_type": "markdown",
   "source": "Separate features and target variable",
   "id": "42982815e2285b6b"
  },
  {
   "metadata": {
    "ExecuteTime": {
     "end_time": "2024-11-07T15:20:13.985385Z",
     "start_time": "2024-11-07T15:20:13.979364Z"
    }
   },
   "cell_type": "code",
   "source": [
    "X = df.iloc[:, :-1]\n",
    "y = df.iloc[:, -1]"
   ],
   "id": "152e3a5bca596d40",
   "outputs": [],
   "execution_count": 29
  },
  {
   "metadata": {},
   "cell_type": "markdown",
   "source": "# Step 5: Train-Test Split",
   "id": "d65d1a12d41dd326"
  },
  {
   "metadata": {
    "ExecuteTime": {
     "end_time": "2024-11-07T15:20:14.091531Z",
     "start_time": "2024-11-07T15:20:13.985385Z"
    }
   },
   "cell_type": "code",
   "source": "X_train, X_test, y_train, y_test = train_test_split(X, y, test_size=0.3, random_state=42)",
   "id": "8311621e8d70c08a",
   "outputs": [],
   "execution_count": 30
  },
  {
   "metadata": {},
   "cell_type": "markdown",
   "source": "# Step 6: Feature Scaling",
   "id": "c9188d7c57bd4b60"
  },
  {
   "metadata": {
    "ExecuteTime": {
     "end_time": "2024-11-07T15:20:14.569036Z",
     "start_time": "2024-11-07T15:20:14.091531Z"
    }
   },
   "cell_type": "code",
   "source": [
    "scaler = StandardScaler()\n",
    "X_train_scaled = scaler.fit_transform(X_train)\n",
    "X_test_scaled = scaler.transform(X_test)"
   ],
   "id": "45a70912de987224",
   "outputs": [],
   "execution_count": 31
  },
  {
   "metadata": {},
   "cell_type": "markdown",
   "source": "# Step 7: Dimensionality Reduction for Visualization",
   "id": "695752c6243b6ff6"
  },
  {
   "metadata": {},
   "cell_type": "markdown",
   "source": "Reduce dimensions to 2 for plotting using PCA",
   "id": "ff75d2e016bf0a06"
  },
  {
   "metadata": {
    "ExecuteTime": {
     "end_time": "2024-11-07T15:20:14.951485Z",
     "start_time": "2024-11-07T15:20:14.582287Z"
    }
   },
   "cell_type": "code",
   "source": [
    "pca = PCA(n_components=2)\n",
    "X_train_pca = pca.fit_transform(X_train_scaled)\n",
    "X_test_pca = pca.transform(X_test_scaled)"
   ],
   "id": "1eb0623409ffea9e",
   "outputs": [],
   "execution_count": 33
  },
  {
   "metadata": {},
   "cell_type": "markdown",
   "source": "Visualizing the data distribution after PCA",
   "id": "2f5162856bd8bc82"
  },
  {
   "metadata": {
    "ExecuteTime": {
     "end_time": "2024-11-07T15:20:15.401624Z",
     "start_time": "2024-11-07T15:20:14.951485Z"
    }
   },
   "cell_type": "code",
   "source": [
    "plt.figure(figsize=(10, 6))\n",
    "sns.scatterplot(x=X_train_pca[:, 0], y=X_train_pca[:, 1], hue=y_train, palette=\"coolwarm\", s=60)\n",
    "plt.title(\"Data Distribution After PCA\")\n",
    "plt.xlabel(\"PCA Component 1\")\n",
    "plt.ylabel(\"PCA Component 2\")\n",
    "plt.show()"
   ],
   "id": "1ba8fd1ae572b0e",
   "outputs": [
    {
     "data": {
      "text/plain": [
       "<Figure size 1000x600 with 1 Axes>"
      ],
      "image/png": "[encoded data removed]"
     },
     "metadata": {},
     "output_type": "display_data"
    }
   ],
   "execution_count": 34
  },
  {
   "metadata": {},
   "cell_type": "markdown",
   "source": "# Step 8: Model Training and Evaluation - KNN",
   "id": "a0592f380ee3c6fc"
  },
  {
   "metadata": {
    "ExecuteTime": {
     "end_time": "2024-11-07T15:20:16.075029Z",
     "start_time": "2024-11-07T15:20:15.401624Z"
    }
   },
   "cell_type": "code",
   "source": [
    "knn = KNeighborsClassifier(n_neighbors=5)\n",
    "knn.fit(X_train_scaled, y_train)\n",
    "y_pred_knn = knn.predict(X_test_scaled)"
   ],
   "id": "a4f64655392bbf8e",
   "outputs": [],
   "execution_count": 35
  },
  {
   "metadata": {},
   "cell_type": "markdown",
   "source": "# Step 9: Model Training and Evaluation - SVM",
   "id": "8f02a5bc788e261f"
  },
  {
   "metadata": {
    "ExecuteTime": {
     "end_time": "2024-11-07T15:20:21.343520Z",
     "start_time": "2024-11-07T15:20:16.075029Z"
    }
   },
   "cell_type": "code",
   "source": [
    "svm = SVC(kernel='linear', random_state=42)\n",
    "svm.fit(X_train_scaled, y_train)\n",
    "y_pred_svm = svm.predict(X_test_scaled)"
   ],
   "id": "dce46eee580cf406",
   "outputs": [],
   "execution_count": 36
  },
  {
   "metadata": {},
   "cell_type": "markdown",
   "source": "# Step 10: Performance Analysis",
   "id": "2112739c00d4d0e5"
  },
  {
   "metadata": {},
   "cell_type": "markdown",
   "source": "Function to display performance metrics",
   "id": "5987f4572b998afc"
  },
  {
   "metadata": {
    "ExecuteTime": {
     "end_time": "2024-11-07T15:20:21.350689Z",
     "start_time": "2024-11-07T15:20:21.343520Z"
    }
   },
   "cell_type": "code",
   "source": [
    "def display_metrics(y_true, y_pred, model_name):\n",
    "    print(f\"--- {model_name} ---\")\n",
    "    print(\"Accuracy:\", accuracy_score(y_true, y_pred))\n",
    "    print(\"Classification Report:\\n\", classification_report(y_true, y_pred))\n",
    "    cm = confusion_matrix(y_true, y_pred)\n",
    "    plt.figure(figsize=(6, 4))\n",
    "    sns.heatmap(cm, annot=True, fmt=\"d\", cmap=\"YlGnBu\", cbar=False, xticklabels=['Not Spam', 'Spam'], yticklabels=['Not Spam', 'Spam'])\n",
    "    plt.title(f\"{model_name} Confusion Matrix\")\n",
    "    plt.xlabel(\"Predicted Label\")\n",
    "    plt.ylabel(\"True Label\")\n",
    "    plt.show()"
   ],
   "id": "1ca1c643c4422d5",
   "outputs": [],
   "execution_count": 37
  },
  {
   "metadata": {},
   "cell_type": "markdown",
   "source": "Display metrics for KNN",
   "id": "2bf9728ae2fc1e25"
  },
  {
   "metadata": {
    "ExecuteTime": {
     "end_time": "2024-11-07T15:20:21.481312Z",
     "start_time": "2024-11-07T15:20:21.351755Z"
    }
   },
   "cell_type": "code",
   "source": "display_metrics(y_test, y_pred_knn, \"K-Nearest Neighbors\")",
   "id": "23921680297daa7d",
   "outputs": [
    {
     "name": "stdout",
     "output_type": "stream",
     "text": [
      "--- K-Nearest Neighbors ---\n",
      "Accuracy: 0.8253865979381443\n",
      "Classification Report:\n",
      "               precision    recall  f1-score   support\n",
      "\n",
      "           0       0.98      0.77      0.86      1097\n",
      "           1       0.63      0.96      0.76       455\n",
      "\n",
      "    accuracy                           0.83      1552\n",
      "   macro avg       0.81      0.86      0.81      1552\n",
      "weighted avg       0.88      0.83      0.83      1552\n",
      "\n"
     ]
    },
    {
     "data": {
      "text/plain": [
       "<Figure size 600x400 with 1 Axes>"
      ],
      "image/png": "[encoded data removed]"
     },
     "metadata": {},
     "output_type": "display_data"
    }
   ],
   "execution_count": 38
  },
  {
   "metadata": {},
   "cell_type": "markdown",
   "source": "Display metrics for SVM",
   "id": "8c8619219abad69e"
  },
  {
   "metadata": {
    "ExecuteTime": {
     "end_time": "2024-11-07T15:20:21.599098Z",
     "start_time": "2024-11-07T15:20:21.481312Z"
    }
   },
   "cell_type": "code",
   "source": "display_metrics(y_test, y_pred_svm, \"Support Vector Machine\")",
   "id": "e08bfbf8be1d87bb",
   "outputs": [
    {
     "name": "stdout",
     "output_type": "stream",
     "text": [
      "--- Support Vector Machine ---\n",
      "Accuracy: 0.9400773195876289\n",
      "Classification Report:\n",
      "               precision    recall  f1-score   support\n",
      "\n",
      "           0       0.96      0.95      0.96      1097\n",
      "           1       0.89      0.91      0.90       455\n",
      "\n",
      "    accuracy                           0.94      1552\n",
      "   macro avg       0.92      0.93      0.93      1552\n",
      "weighted avg       0.94      0.94      0.94      1552\n",
      "\n"
     ]
    },
    {
     "data": {
      "text/plain": [
       "<Figure size 600x400 with 1 Axes>"
      ],
      "image/png": "[encoded data removed]"
     },
     "metadata": {},
     "output_type": "display_data"
    }
   ],
   "execution_count": 39
  },
  {
   "metadata": {},
   "cell_type": "markdown",
   "source": "# Step 11: Compare Model Performance Using a Bar Chart",
   "id": "8480aa154c57afc7"
  },
  {
   "metadata": {
    "ExecuteTime": {
     "end_time": "2024-11-07T15:20:21.605458Z",
     "start_time": "2024-11-07T15:20:21.599098Z"
    }
   },
   "cell_type": "code",
   "source": [
    "knn_accuracy = accuracy_score(y_test, y_pred_knn)\n",
    "svm_accuracy = accuracy_score(y_test, y_pred_svm)\n",
    "model_names = ['K-Nearest Neighbors', 'Support Vector Machine']\n",
    "accuracies = [knn_accuracy, svm_accuracy]"
   ],
   "id": "9bc6052f3061347a",
   "outputs": [],
   "execution_count": 40
  },
  {
   "metadata": {
    "ExecuteTime": {
     "end_time": "2024-11-07T15:20:21.868093Z",
     "start_time": "2024-11-07T15:20:21.605458Z"
    }
   },
   "cell_type": "code",
   "source": [
    "plt.figure(figsize=(8, 5))\n",
    "sns.barplot(x=model_names, y=accuracies, palette=\"viridis\")\n",
    "plt.title(\"Comparison of Model Accuracies\")\n",
    "plt.xlabel(\"Model\")\n",
    "plt.ylabel(\"Accuracy\")\n",
    "plt.ylim(0, 1)\n",
    "plt.show()"
   ],
   "id": "initial_id",
   "outputs": [
    {
     "data": {
      "text/plain": [
       "<Figure size 800x500 with 1 Axes>"
      ],
      "image/png": "[encoded data removed]"
     },
     "metadata": {},
     "output_type": "display_data"
    }
   ],
   "execution_count": 41
  },
  {
   "metadata": {},
   "cell_type": "markdown",
   "source": "# Step 12: Add Predictions to the Original DataFrame",
   "id": "60c94b47bb4902c2"
  },
  {
   "metadata": {},
   "cell_type": "markdown",
   "source": "Compute predictions on the entire dataset (scaled)",
   "id": "7796759d1533b82e"
  },
  {
   "metadata": {
    "ExecuteTime": {
     "end_time": "2024-11-07T15:20:28.448735Z",
     "start_time": "2024-11-07T15:20:21.868093Z"
    }
   },
   "cell_type": "code",
   "source": [
    "X_scaled = scaler.transform(X)  # Scaling the full feature set for consistency\n",
    "df['KNN_Prediction'] = knn.predict(X_scaled)\n",
    "df['SVM_Prediction'] = svm.predict(X_scaled)"
   ],
   "id": "d1d1e3cc68143aa9",
   "outputs": [],
   "execution_count": 42
  },
  {
   "metadata": {},
   "cell_type": "markdown",
   "source": "Display the updated DataFrame with predictions",
   "id": "b98660891b93b64e"
  },
  {
   "metadata": {
    "ExecuteTime": {
     "end_time": "2024-11-07T15:20:28.480879Z",
     "start_time": "2024-11-07T15:20:28.448735Z"
    }
   },
   "cell_type": "code",
   "source": "df",
   "id": "a5c7798c152224a3",
   "outputs": [
    {
     "data": {
      "text/plain": [
       "      the  to  ect  and  for  of    a  you  hou  in  ...  valued  lay  \\\n",
       "0       0   0    1    0    0   0    2    0    0   0  ...       0    0   \n",
       "1       8  13   24    6    6   2  102    1   27  18  ...       0    0   \n",
       "2       0   0    1    0    0   0    8    0    0   4  ...       0    0   \n",
       "3       0   5   22    0    5   1   51    2   10   1  ...       0    0   \n",
       "4       7   6   17    1    5   2   57    0    9   3  ...       0    0   \n",
       "...   ...  ..  ...  ...  ...  ..  ...  ...  ...  ..  ...     ...  ...   \n",
       "5167    2   2    2    3    0   0   32    0    0   5  ...       0    0   \n",
       "5168   35  27   11    2    6   5  151    4    3  23  ...       0    0   \n",
       "5169    0   0    1    1    0   0   11    0    0   1  ...       0    0   \n",
       "5170    2   7    1    0    2   1   28    2    0   8  ...       0    0   \n",
       "5171   22  24    5    1    6   5  148    8    2  23  ...       0    0   \n",
       "\n",
       "      infrastructure  military  allowing  ff  dry  Prediction  KNN_Prediction  \\\n",
       "0                  0         0         0   0    0           0               0   \n",
       "1                  0         0         0   1    0           0               0   \n",
       "2                  0         0         0   0    0           0               0   \n",
       "3                  0         0         0   0    0           0               0   \n",
       "4                  0         0         0   1    0           0               0   \n",
       "...              ...       ...       ...  ..  ...         ...             ...   \n",
       "5167               0         0         0   0    0           0               0   \n",
       "5168               0         0         0   1    0           0               0   \n",
       "5169               0         0         0   0    0           1               1   \n",
       "5170               0         0         0   1    0           1               1   \n",
       "5171               0         0         0   0    0           0               0   \n",
       "\n",
       "      SVM_Prediction  \n",
       "0                  0  \n",
       "1                  0  \n",
       "2                  0  \n",
       "3                  0  \n",
       "4                  0  \n",
       "...              ...  \n",
       "5167               0  \n",
       "5168               0  \n",
       "5169               1  \n",
       "5170               1  \n",
       "5171               0  \n",
       "\n",
       "[5172 rows x 3003 columns]"
      ],
      "text/html": [
       "<div>\n",
       "<style scoped>\n",
       "    .dataframe tbody tr th:only-of-type {\n",
       "        vertical-align: middle;\n",
       "    }\n",
       "\n",
       "    .dataframe tbody tr th {\n",
       "        vertical-align: top;\n",
       "    }\n",
       "\n",
       "    .dataframe thead th {\n",
       "        text-align: right;\n",
       "    }\n",
       "</style>\n",
       "<table border=\"1\" class=\"dataframe\">\n",
       "  <thead>\n",
       "    <tr style=\"text-align: right;\">\n",
       "      <th></th>\n",
       "      <th>the</th>\n",
       "      <th>to</th>\n",
       "      <th>ect</th>\n",
       "      <th>and</th>\n",
       "      <th>for</th>\n",
       "      <th>of</th>\n",
       "      <th>a</th>\n",
       "      <th>you</th>\n",
       "      <th>hou</th>\n",
       "      <th>in</th>\n",
       "      <th>...</th>\n",
       "      <th>valued</th>\n",
       "      <th>lay</th>\n",
       "      <th>infrastructure</th>\n",
       "      <th>military</th>\n",
       "      <th>allowing</th>\n",
       "      <th>ff</th>\n",
       "      <th>dry</th>\n",
       "      <th>Prediction</th>\n",
       "      <th>KNN_Prediction</th>\n",
       "      <th>SVM_Prediction</th>\n",
       "    </tr>\n",
       "  </thead>\n",
       "  <tbody>\n",
       "    <tr>\n",
       "      <th>0</th>\n",
       "      <td>0</td>\n",
       "      <td>0</td>\n",
       "      <td>1</td>\n",
       "      <td>0</td>\n",
       "      <td>0</td>\n",
       "      <td>0</td>\n",
       "      <td>2</td>\n",
       "      <td>0</td>\n",
       "      <td>0</td>\n",
       "      <td>0</td>\n",
       "      <td>...</td>\n",
       "      <td>0</td>\n",
       "      <td>0</td>\n",
       "      <td>0</td>\n",
       "      <td>0</td>\n",
       "      <td>0</td>\n",
       "      <td>0</td>\n",
       "      <td>0</td>\n",
       "      <td>0</td>\n",
       "      <td>0</td>\n",
       "      <td>0</td>\n",
       "    </tr>\n",
       "    <tr>\n",
       "      <th>1</th>\n",
       "      <td>8</td>\n",
       "      <td>13</td>\n",
       "      <td>24</td>\n",
       "      <td>6</td>\n",
       "      <td>6</td>\n",
       "      <td>2</td>\n",
       "      <td>102</td>\n",
       "      <td>1</td>\n",
       "      <td>27</td>\n",
       "      <td>18</td>\n",
       "      <td>...</td>\n",
       "      <td>0</td>\n",
       "      <td>0</td>\n",
       "      <td>0</td>\n",
       "      <td>0</td>\n",
       "      <td>0</td>\n",
       "      <td>1</td>\n",
       "      <td>0</td>\n",
       "      <td>0</td>\n",
       "      <td>0</td>\n",
       "      <td>0</td>\n",
       "    </tr>\n",
       "    <tr>\n",
       "      <th>2</th>\n",
       "      <td>0</td>\n",
       "      <td>0</td>\n",
       "      <td>1</td>\n",
       "      <td>0</td>\n",
       "      <td>0</td>\n",
       "      <td>0</td>\n",
       "      <td>8</td>\n",
       "      <td>0</td>\n",
       "      <td>0</td>\n",
       "      <td>4</td>\n",
       "      <td>...</td>\n",
       "      <td>0</td>\n",
       "      <td>0</td>\n",
       "      <td>0</td>\n",
       "      <td>0</td>\n",
       "      <td>0</td>\n",
       "      <td>0</td>\n",
       "      <td>0</td>\n",
       "      <td>0</td>\n",
       "      <td>0</td>\n",
       "      <td>0</td>\n",
       "    </tr>\n",
       "    <tr>\n",
       "      <th>3</th>\n",
       "      <td>0</td>\n",
       "      <td>5</td>\n",
       "      <td>22</td>\n",
       "      <td>0</td>\n",
       "      <td>5</td>\n",
       "      <td>1</td>\n",
       "      <td>51</td>\n",
       "      <td>2</td>\n",
       "      <td>10</td>\n",
       "      <td>1</td>\n",
       "      <td>...</td>\n",
       "      <td>0</td>\n",
       "      <td>0</td>\n",
       "      <td>0</td>\n",
       "      <td>0</td>\n",
       "      <td>0</td>\n",
       "      <td>0</td>\n",
       "      <td>0</td>\n",
       "      <td>0</td>\n",
       "      <td>0</td>\n",
       "      <td>0</td>\n",
       "    </tr>\n",
       "    <tr>\n",
       "      <th>4</th>\n",
       "      <td>7</td>\n",
       "      <td>6</td>\n",
       "      <td>17</td>\n",
       "      <td>1</td>\n",
       "      <td>5</td>\n",
       "      <td>2</td>\n",
       "      <td>57</td>\n",
       "      <td>0</td>\n",
       "      <td>9</td>\n",
       "      <td>3</td>\n",
       "      <td>...</td>\n",
       "      <td>0</td>\n",
       "      <td>0</td>\n",
       "      <td>0</td>\n",
       "      <td>0</td>\n",
       "      <td>0</td>\n",
       "      <td>1</td>\n",
       "      <td>0</td>\n",
       "      <td>0</td>\n",
       "      <td>0</td>\n",
       "      <td>0</td>\n",
       "    </tr>\n",
       "    <tr>\n",
       "      <th>...</th>\n",
       "      <td>...</td>\n",
       "      <td>...</td>\n",
       "      <td>...</td>\n",
       "      <td>...</td>\n",
       "      <td>...</td>\n",
       "      <td>...</td>\n",
       "      <td>...</td>\n",
       "      <td>...</td>\n",
       "      <td>...</td>\n",
       "      <td>...</td>\n",
       "      <td>...</td>\n",
       "      <td>...</td>\n",
       "      <td>...</td>\n",
       "      <td>...</td>\n",
       "      <td>...</td>\n",
       "      <td>...</td>\n",
       "      <td>...</td>\n",
       "      <td>...</td>\n",
       "      <td>...</td>\n",
       "      <td>...</td>\n",
       "      <td>...</td>\n",
       "    </tr>\n",
       "    <tr>\n",
       "      <th>5167</th>\n",
       "      <td>2</td>\n",
       "      <td>2</td>\n",
       "      <td>2</td>\n",
       "      <td>3</td>\n",
       "      <td>0</td>\n",
       "      <td>0</td>\n",
       "      <td>32</td>\n",
       "      <td>0</td>\n",
       "      <td>0</td>\n",
       "      <td>5</td>\n",
       "      <td>...</td>\n",
       "      <td>0</td>\n",
       "      <td>0</td>\n",
       "      <td>0</td>\n",
       "      <td>0</td>\n",
       "      <td>0</td>\n",
       "      <td>0</td>\n",
       "      <td>0</td>\n",
       "      <td>0</td>\n",
       "      <td>0</td>\n",
       "      <td>0</td>\n",
       "    </tr>\n",
       "    <tr>\n",
       "      <th>5168</th>\n",
       "      <td>35</td>\n",
       "      <td>27</td>\n",
       "      <td>11</td>\n",
       "      <td>2</td>\n",
       "      <td>6</td>\n",
       "      <td>5</td>\n",
       "      <td>151</td>\n",
       "      <td>4</td>\n",
       "      <td>3</td>\n",
       "      <td>23</td>\n",
       "      <td>...</td>\n",
       "      <td>0</td>\n",
       "      <td>0</td>\n",
       "      <td>0</td>\n",
       "      <td>0</td>\n",
       "      <td>0</td>\n",
       "      <td>1</td>\n",
       "      <td>0</td>\n",
       "      <td>0</td>\n",
       "      <td>0</td>\n",
       "      <td>0</td>\n",
       "    </tr>\n",
       "    <tr>\n",
       "      <th>5169</th>\n",
       "      <td>0</td>\n",
       "      <td>0</td>\n",
       "      <td>1</td>\n",
       "      <td>1</td>\n",
       "      <td>0</td>\n",
       "      <td>0</td>\n",
       "      <td>11</td>\n",
       "      <td>0</td>\n",
       "      <td>0</td>\n",
       "      <td>1</td>\n",
       "      <td>...</td>\n",
       "      <td>0</td>\n",
       "      <td>0</td>\n",
       "      <td>0</td>\n",
       "      <td>0</td>\n",
       "      <td>0</td>\n",
       "      <td>0</td>\n",
       "      <td>0</td>\n",
       "      <td>1</td>\n",
       "      <td>1</td>\n",
       "      <td>1</td>\n",
       "    </tr>\n",
       "    <tr>\n",
       "      <th>5170</th>\n",
       "      <td>2</td>\n",
       "      <td>7</td>\n",
       "      <td>1</td>\n",
       "      <td>0</td>\n",
       "      <td>2</td>\n",
       "      <td>1</td>\n",
       "      <td>28</td>\n",
       "      <td>2</td>\n",
       "      <td>0</td>\n",
       "      <td>8</td>\n",
       "      <td>...</td>\n",
       "      <td>0</td>\n",
       "      <td>0</td>\n",
       "      <td>0</td>\n",
       "      <td>0</td>\n",
       "      <td>0</td>\n",
       "      <td>1</td>\n",
       "      <td>0</td>\n",
       "      <td>1</td>\n",
       "      <td>1</td>\n",
       "      <td>1</td>\n",
       "    </tr>\n",
       "    <tr>\n",
       "      <th>5171</th>\n",
       "      <td>22</td>\n",
       "      <td>24</td>\n",
       "      <td>5</td>\n",
       "      <td>1</td>\n",
       "      <td>6</td>\n",
       "      <td>5</td>\n",
       "      <td>148</td>\n",
       "      <td>8</td>\n",
       "      <td>2</td>\n",
       "      <td>23</td>\n",
       "      <td>...</td>\n",
       "      <td>0</td>\n",
       "      <td>0</td>\n",
       "      <td>0</td>\n",
       "      <td>0</td>\n",
       "      <td>0</td>\n",
       "      <td>0</td>\n",
       "      <td>0</td>\n",
       "      <td>0</td>\n",
       "      <td>0</td>\n",
       "      <td>0</td>\n",
       "    </tr>\n",
       "  </tbody>\n",
       "</table>\n",
       "<p>5172 rows × 3003 columns</p>\n",
       "</div>"
      ]
     },
     "execution_count": 43,
     "metadata": {},
     "output_type": "execute_result"
    }
   ],
   "execution_count": 43
  }
 ],
 "metadata": {
  "kernelspec": {
   "display_name": "Python 3",
   "language": "python",
   "name": "python3"
  },
  "language_info": {
   "codemirror_mode": {
    "name": "ipython",
    "version": 2
   },
   "file_extension": ".py",
   "mimetype": "text/x-python",
   "name": "python",
   "nbconvert_exporter": "python",
   "pygments_lexer": "ipython2",
   "version": "2.7.6"
  }
 },
 "nbformat": 4,
 "nbformat_minor": 5
}
